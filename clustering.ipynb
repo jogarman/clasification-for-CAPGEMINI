{
 "cells": [
  {
   "cell_type": "code",
   "execution_count": 1,
   "id": "842498aa",
   "metadata": {},
   "outputs": [],
   "source": [
    "from time import time\n",
    "\n",
    "import matplotlib.pyplot as plt\n",
    "import numpy as np\n",
    "import plotly.express as px\n",
    "from scipy.cluster.hierarchy import dendrogram\n",
    "from sklearn.cluster import AgglomerativeClustering\n",
    "from sklearn.preprocessing import StandardScaler"
   ]
  },
  {
   "cell_type": "markdown",
   "id": "8a45c3bf",
   "metadata": {},
   "source": [
    "# Clustering de países con Gapminder\n",
    "\n",
    "Este cuaderno explora el desarrollo de países usando el dataset Gapminder.\n",
    "- Carga y limpieza básica de datos.\n",
    "- Tratamiento de outliers y selección de variables.\n",
    "- Preparación por años (1952 vs 2007) y escalado.\n",
    "- Clustering jerárquico (Agglomerative) y dendrogramas.\n",
    "- Visualizaciones comparativas de clusters."
   ]
  },
  {
   "cell_type": "code",
   "execution_count": null,
   "id": "1c59d8b8",
   "metadata": {},
   "outputs": [
    {
     "name": "stdout",
     "output_type": "stream",
     "text": [
      "       country continent  year  lifeExp       pop   gdpPercap iso_alpha  \\\n",
      "0  Afghanistan      Asia  1952   28.801   8425333  779.445314       AFG   \n",
      "1  Afghanistan      Asia  1957   30.332   9240934  820.853030       AFG   \n",
      "2  Afghanistan      Asia  1962   31.997  10267083  853.100710       AFG   \n",
      "3  Afghanistan      Asia  1967   34.020  11537966  836.197138       AFG   \n",
      "4  Afghanistan      Asia  1972   36.088  13079460  739.981106       AFG   \n",
      "\n",
      "   iso_num  \n",
      "0        4  \n",
      "1        4  \n",
      "2        4  \n",
      "3        4  \n",
      "4        4  \n"
     ]
    }
   ],
   "source": [
    "df = px.data.gapminder()\n",
    "print(df.head())"
   ]
  },
  {
   "cell_type": "markdown",
   "id": "f000cbd5",
   "metadata": {},
   "source": [
    "## Carga de datos\n",
    "\n",
    "Usamos `plotly.express` para obtener el dataset público de Gapminder con indicadores por país y año."
   ]
  },
  {
   "cell_type": "code",
   "execution_count": 20,
   "id": "474557bd",
   "metadata": {},
   "outputs": [],
   "source": [
    "df = df.drop(columns=['iso_alpha'])\n",
    "df = df.drop(columns=['iso_num'])"
   ]
  },
  {
   "cell_type": "markdown",
   "id": "864424aa",
   "metadata": {},
   "source": [
    "## Selección de variables y limpieza\n",
    "\n",
    "- Eliminamos columnas identificativas que no aportan al modelo (`iso_alpha`, `iso_num`).\n",
    "- También descartamos `pop` porque no mejora la separación de clusters en este análisis."
   ]
  },
  {
   "cell_type": "code",
   "execution_count": 21,
   "id": "225306ef",
   "metadata": {},
   "outputs": [
    {
     "data": {
      "text/html": [
       "<div>\n",
       "<style scoped>\n",
       "    .dataframe tbody tr th:only-of-type {\n",
       "        vertical-align: middle;\n",
       "    }\n",
       "\n",
       "    .dataframe tbody tr th {\n",
       "        vertical-align: top;\n",
       "    }\n",
       "\n",
       "    .dataframe thead th {\n",
       "        text-align: right;\n",
       "    }\n",
       "</style>\n",
       "<table border=\"1\" class=\"dataframe\">\n",
       "  <thead>\n",
       "    <tr style=\"text-align: right;\">\n",
       "      <th></th>\n",
       "      <th>country</th>\n",
       "      <th>continent</th>\n",
       "      <th>year</th>\n",
       "      <th>lifeExp</th>\n",
       "      <th>pop</th>\n",
       "      <th>gdpPercap</th>\n",
       "    </tr>\n",
       "  </thead>\n",
       "  <tbody>\n",
       "    <tr>\n",
       "      <th>613</th>\n",
       "      <td>Guinea</td>\n",
       "      <td>Africa</td>\n",
       "      <td>1957</td>\n",
       "      <td>34.558</td>\n",
       "      <td>2876726</td>\n",
       "      <td>576.267025</td>\n",
       "    </tr>\n",
       "    <tr>\n",
       "      <th>744</th>\n",
       "      <td>Ireland</td>\n",
       "      <td>Europe</td>\n",
       "      <td>1952</td>\n",
       "      <td>66.910</td>\n",
       "      <td>2952156</td>\n",
       "      <td>5210.280328</td>\n",
       "    </tr>\n",
       "    <tr>\n",
       "      <th>948</th>\n",
       "      <td>Mali</td>\n",
       "      <td>Africa</td>\n",
       "      <td>1952</td>\n",
       "      <td>33.685</td>\n",
       "      <td>3838168</td>\n",
       "      <td>452.336981</td>\n",
       "    </tr>\n",
       "    <tr>\n",
       "      <th>967</th>\n",
       "      <td>Mauritania</td>\n",
       "      <td>Africa</td>\n",
       "      <td>1987</td>\n",
       "      <td>56.145</td>\n",
       "      <td>1841240</td>\n",
       "      <td>1421.603576</td>\n",
       "    </tr>\n",
       "    <tr>\n",
       "      <th>558</th>\n",
       "      <td>Gambia</td>\n",
       "      <td>Africa</td>\n",
       "      <td>1982</td>\n",
       "      <td>45.580</td>\n",
       "      <td>715523</td>\n",
       "      <td>835.809611</td>\n",
       "    </tr>\n",
       "    <tr>\n",
       "      <th>296</th>\n",
       "      <td>China</td>\n",
       "      <td>Asia</td>\n",
       "      <td>1992</td>\n",
       "      <td>68.690</td>\n",
       "      <td>1164970000</td>\n",
       "      <td>1655.784158</td>\n",
       "    </tr>\n",
       "    <tr>\n",
       "      <th>1377</th>\n",
       "      <td>Slovak Republic</td>\n",
       "      <td>Europe</td>\n",
       "      <td>1997</td>\n",
       "      <td>72.710</td>\n",
       "      <td>5383010</td>\n",
       "      <td>12126.230650</td>\n",
       "    </tr>\n",
       "    <tr>\n",
       "      <th>1070</th>\n",
       "      <td>Nepal</td>\n",
       "      <td>Asia</td>\n",
       "      <td>1962</td>\n",
       "      <td>39.393</td>\n",
       "      <td>10332057</td>\n",
       "      <td>652.396859</td>\n",
       "    </tr>\n",
       "    <tr>\n",
       "      <th>554</th>\n",
       "      <td>Gambia</td>\n",
       "      <td>Africa</td>\n",
       "      <td>1962</td>\n",
       "      <td>33.896</td>\n",
       "      <td>374020</td>\n",
       "      <td>599.650276</td>\n",
       "    </tr>\n",
       "    <tr>\n",
       "      <th>1083</th>\n",
       "      <td>Netherlands</td>\n",
       "      <td>Europe</td>\n",
       "      <td>1967</td>\n",
       "      <td>73.820</td>\n",
       "      <td>12596822</td>\n",
       "      <td>15363.251360</td>\n",
       "    </tr>\n",
       "  </tbody>\n",
       "</table>\n",
       "</div>"
      ],
      "text/plain": [
       "              country continent  year  lifeExp         pop     gdpPercap\n",
       "613            Guinea    Africa  1957   34.558     2876726    576.267025\n",
       "744           Ireland    Europe  1952   66.910     2952156   5210.280328\n",
       "948              Mali    Africa  1952   33.685     3838168    452.336981\n",
       "967        Mauritania    Africa  1987   56.145     1841240   1421.603576\n",
       "558            Gambia    Africa  1982   45.580      715523    835.809611\n",
       "296             China      Asia  1992   68.690  1164970000   1655.784158\n",
       "1377  Slovak Republic    Europe  1997   72.710     5383010  12126.230650\n",
       "1070            Nepal      Asia  1962   39.393    10332057    652.396859\n",
       "554            Gambia    Africa  1962   33.896      374020    599.650276\n",
       "1083      Netherlands    Europe  1967   73.820    12596822  15363.251360"
      ]
     },
     "execution_count": 21,
     "metadata": {},
     "output_type": "execute_result"
    }
   ],
   "source": [
    "df.sample(10)"
   ]
  },
  {
   "cell_type": "code",
   "execution_count": null,
   "id": "10adf099",
   "metadata": {},
   "outputs": [
    {
     "name": "stdout",
     "output_type": "stream",
     "text": [
      "['Asia' 'Europe' 'Africa' 'Americas' 'Oceania']\n"
     ]
    }
   ],
   "source": [
    "print(df['continent'].unique())"
   ]
  },
  {
   "cell_type": "markdown",
   "id": "bedd72ca",
   "metadata": {},
   "source": [
    "## Exploración rápida de variables categóricas\n",
    "\n",
    "Comprobamos los valores únicos de `continent` para conocer la variedad geográfica del conjunto."
   ]
  },
  {
   "cell_type": "code",
   "execution_count": null,
   "id": "6fe94c42",
   "metadata": {},
   "outputs": [
    {
     "name": "stdout",
     "output_type": "stream",
     "text": [
      "2007\n"
     ]
    }
   ],
   "source": [
    "print(df['year'].max())"
   ]
  },
  {
   "cell_type": "markdown",
   "id": "21b926e5",
   "metadata": {},
   "source": [
    "## Comprobaciones rápidas\n",
    "\n",
    "- Verificamos el rango temporal disponible y el conteo de filas tras las primeras limpiezas."
   ]
  },
  {
   "cell_type": "code",
   "execution_count": null,
   "id": "76350e33",
   "metadata": {},
   "outputs": [],
   "source": [
    "df = df[~df['country'].isin(['Kuwait'])]\n",
    "df = df.drop(columns=['pop'])"
   ]
  },
  {
   "cell_type": "markdown",
   "id": "aad9a3f9",
   "metadata": {},
   "source": [
    "## Tratamiento de outliers y variable población\n",
    "\n",
    "- Para evitar que unos pocos países dominen las distancias, excluimos Kuwait (identificado como outlier en 1952).\n",
    "- Probamos incluir `pop`, pero no aportó separación útil de clusters en este análisis; por eso la eliminamos."
   ]
  },
  {
   "cell_type": "code",
   "execution_count": null,
   "id": "4e155100",
   "metadata": {},
   "outputs": [
    {
     "data": {
      "text/plain": [
       "country      141\n",
       "lifeExp      141\n",
       "gdpPercap    141\n",
       "dtype: int64"
      ]
     },
     "execution_count": 25,
     "metadata": {},
     "output_type": "execute_result"
    }
   ],
   "source": [
    "df_1 = df[df['year'] == 1952]\n",
    "df_2 = df[df['year'] == 2007]\n",
    "df_1 = df_1.drop(columns=['year', 'continent'])\n",
    "df_2 = df_2.drop(columns=['year', 'continent'])\n",
    "\n",
    "df_1.count()"
   ]
  },
  {
   "cell_type": "markdown",
   "id": "d9969e3e",
   "metadata": {},
   "source": [
    "## Preparación por año\n",
    "\n",
    "Creamos dos subconjuntos: 1952 y 2007. Para el clustering retiramos `year` y `continent` y conservamos `country` solo como etiqueta descriptiva."
   ]
  },
  {
   "cell_type": "code",
   "execution_count": null,
   "id": "a80e6756",
   "metadata": {},
   "outputs": [],
   "source": [
    "scaler = StandardScaler()\n",
    "df_1_scaled = scaler.fit_transform(df_1.drop(columns=['country']))\n",
    "df_2_scaled = scaler.fit_transform(df_2.drop(columns=['country']))"
   ]
  },
  {
   "cell_type": "markdown",
   "id": "fd82d536",
   "metadata": {},
   "source": [
    "## Escalado de variables\n",
    "\n",
    "Estandarizamos las variables numéricas por año para que `lifeExp` y `gdpPercap` contribuyan de forma comparable al clustering."
   ]
  },
  {
   "cell_type": "code",
   "execution_count": null,
   "id": "15ad790f",
   "metadata": {},
   "outputs": [],
   "source": []
  },
  {
   "cell_type": "markdown",
   "id": "f89bd6d3",
   "metadata": {},
   "source": [
    "## Nota sobre variables categóricas\n",
    "\n",
    "`sklearn` permite usar variables categóricas si se transforman a variables dummie (one-hot). En este flujo hemos decidido excluir `continent` del clustering para centrarnos en variables numéricas comparables entre años."
   ]
  },
  {
   "cell_type": "code",
   "execution_count": null,
   "id": "e86477fb",
   "metadata": {},
   "outputs": [],
   "source": [
    "def plot_dendogram(model, **kwargs):\n",
    "    '''\n",
    "    Esta función extrae la información de un modelo AgglomerativeClustering\n",
    "    y representa su dendograma con la función dendogram de scipy.cluster.hierarchy\n",
    "    '''\n",
    "    counts = np.zeros(model.children_.shape[0])\n",
    "    n_samples = len(model.labels_)\n",
    "    for i, merge in enumerate(model.children_):\n",
    "        current_count = 0\n",
    "        for child_idx in merge:\n",
    "            if child_idx < n_samples:\n",
    "                current_count += 1  # leaf node\n",
    "            else:\n",
    "                current_count += counts[child_idx - n_samples]\n",
    "            counts[i] = current_count\n",
    "\n",
    "    linkage_matrix = np.column_stack([model.children_, model.distances_, counts]).astype(float)\n",
    "\n",
    "    # Plot\n",
    "    dendrogram(linkage_matrix, **kwargs)\n",
    "    plt.show()"
   ]
  },
  {
   "cell_type": "markdown",
   "id": "e77bc4b8",
   "metadata": {},
   "source": [
    "## Clustering jerárquico y dendrogramas\n",
    "\n",
    "Elegimos `AgglomerativeClustering` para inspeccionar la estructura jerárquica. Definimos una función auxiliar que reconstruye la matriz de enlace para dibujar el dendrograma con `scipy`."
   ]
  },
  {
   "cell_type": "code",
   "execution_count": null,
   "id": "02e90ffa",
   "metadata": {},
   "outputs": [
    {
     "name": "stdout",
     "output_type": "stream",
     "text": [
      "Dendogram for df1\n",
      " ward :\t0.00s\n"
     ]
    },
    {
     "data": {
      "image/png": "[encoded data removed]",
      "text/plain": [
       "<Figure size 640x480 with 1 Axes>"
      ]
     },
     "metadata": {},
     "output_type": "display_data"
    },
    {
     "name": "stdout",
     "output_type": "stream",
     "text": [
      "Dendogram for df2\n",
      "ward :\t0.00s\n"
     ]
    },
    {
     "data": {
      "image/png": "[encoded data removed]",
      "text/plain": [
       "<Figure size 640x480 with 1 Axes>"
      ]
     },
     "metadata": {},
     "output_type": "display_data"
    },
    {
     "name": "stdout",
     "output_type": "stream",
     "text": [
      "Dendogram for df1\n",
      " average :\t0.00s\n"
     ]
    },
    {
     "data": {
      "image/png": "[encoded data removed]",
      "text/plain": [
       "<Figure size 640x480 with 1 Axes>"
      ]
     },
     "metadata": {},
     "output_type": "display_data"
    },
    {
     "name": "stdout",
     "output_type": "stream",
     "text": [
      "Dendogram for df2\n",
      "average :\t0.00s\n"
     ]
    },
    {
     "data": {
      "image/png": "[encoded data removed]",
      "text/plain": [
       "<Figure size 640x480 with 1 Axes>"
      ]
     },
     "metadata": {},
     "output_type": "display_data"
    },
    {
     "name": "stdout",
     "output_type": "stream",
     "text": [
      "Dendogram for df1\n",
      " complete :\t0.00s\n"
     ]
    },
    {
     "data": {
      "image/png": "[encoded data removed]",
      "text/plain": [
       "<Figure size 640x480 with 1 Axes>"
      ]
     },
     "metadata": {},
     "output_type": "display_data"
    },
    {
     "name": "stdout",
     "output_type": "stream",
     "text": [
      "Dendogram for df2\n",
      "complete :\t0.00s\n"
     ]
    },
    {
     "data": {
      "image/png": "[encoded data removed]",
      "text/plain": [
       "<Figure size 640x480 with 1 Axes>"
      ]
     },
     "metadata": {},
     "output_type": "display_data"
    },
    {
     "name": "stdout",
     "output_type": "stream",
     "text": [
      "Dendogram for df1\n",
      " single :\t0.00s\n"
     ]
    },
    {
     "data": {
      "image/png": "[encoded data removed]",
      "text/plain": [
       "<Figure size 640x480 with 1 Axes>"
      ]
     },
     "metadata": {},
     "output_type": "display_data"
    },
    {
     "name": "stdout",
     "output_type": "stream",
     "text": [
      "Dendogram for df2\n",
      "single :\t0.00s\n"
     ]
    },
    {
     "data": {
      "image/png": "[encoded data removed]",
      "text/plain": [
       "<Figure size 640x480 with 1 Axes>"
      ]
     },
     "metadata": {},
     "output_type": "display_data"
    }
   ],
   "source": [
    "def plot_endo(df1, df2):\n",
    "    for linkage in (\"ward\", \"average\", \"complete\", \"single\"):\n",
    "        print(\"Dendogram for df1\")\n",
    "\n",
    "        clustering = AgglomerativeClustering(linkage=linkage, n_clusters=None, distance_threshold=0)\n",
    "        t0 = time()\n",
    "        clustering.fit(df1)\n",
    "        print(\" %s :\\t%.2fs\" % (linkage, time() - t0))\n",
    "\n",
    "        plt.clf()\n",
    "        plot_dendogram(clustering)\n",
    "\n",
    "        print(\"Dendogram for df2\")\n",
    "        clustering = AgglomerativeClustering(linkage=linkage, n_clusters=None, distance_threshold=0)\n",
    "        t0 = time()\n",
    "        clustering.fit(df2)\n",
    "        print(\"%s :\\t%.2fs\" % (linkage, time() - t0))\n",
    "\n",
    "        plt.clf()\n",
    "        plot_dendogram(clustering)\n",
    "\n",
    "\n",
    "plot_endo(df_1_scaled, df_2_scaled)\n",
    "# plot_endo(df_2_scaled, \"2007 with continents\")"
   ]
  },
  {
   "cell_type": "markdown",
   "id": "83699f9d",
   "metadata": {},
   "source": [
    "## Comparativa de dendrogramas (1952 vs 2007)\n",
    "\n",
    "Probamos distintos métodos de enlace (`ward`, `average`, `complete`, `single`) y comparamos la estructura jerárquica en ambos años."
   ]
  },
  {
   "cell_type": "markdown",
   "id": "d17d3e9d",
   "metadata": {},
   "source": [
    "## Selección de número de clusters\n",
    "\n",
    "Optamos por `n_clusters = 2` tras inspeccionar los dendrogramas: el salto de distancia sugiere dos grupos principales con buena separación."
   ]
  },
  {
   "cell_type": "code",
   "execution_count": 30,
   "id": "7969ca82",
   "metadata": {},
   "outputs": [],
   "source": [
    "modelo_hclust_ward = AgglomerativeClustering(linkage='ward', n_clusters=2)\n",
    "modelo_hclust_ward.fit(X=df_1_scaled)\n",
    "cluster_labels = modelo_hclust_ward.fit_predict(X=df_1_scaled)\n",
    "df_1['cluster'] = cluster_labels\n",
    "\n",
    "modelo_hclust_ward.fit(X=df_2_scaled)\n",
    "cluster_labels = modelo_hclust_ward.fit_predict(X=df_2_scaled)\n",
    "df_2['cluster'] = cluster_labels"
   ]
  },
  {
   "cell_type": "markdown",
   "id": "af1fff93",
   "metadata": {},
   "source": [
    "## Clustering final y etiquetas\n",
    "\n",
    "Ajustamos `AgglomerativeClustering` con `ward` y `n_clusters=2` por cada año y guardamos las etiquetas resultantes en cada dataframe."
   ]
  },
  {
   "cell_type": "code",
   "execution_count": null,
   "id": "9ea8e302",
   "metadata": {},
   "outputs": [],
   "source": [
    "df_1s = df_1.sample(50, random_state=42)\n",
    "\n",
    "paises_sel = df_1s['country']\n",
    "\n",
    "df_2s = df_2[df_2['country'].isin(paises_sel)]"
   ]
  },
  {
   "cell_type": "markdown",
   "id": "d7f48588",
   "metadata": {},
   "source": [
    "## Muestreo para visualización\n",
    "\n",
    "Seleccionamos 50 países aleatorios de 1952 y filtramos 2007 a los mismos países para comparaciones justas en los gráficos."
   ]
  },
  {
   "cell_type": "code",
   "execution_count": null,
   "id": "5c120d79",
   "metadata": {},
   "outputs": [
    {
     "name": "stdout",
     "output_type": "stream",
     "text": [
      "Paises cluster 0 df_1\n",
      "1332            Serbia\n",
      "1596    United Kingdom\n",
      "72             Austria\n",
      "768              Italy\n",
      "84             Bahrain\n",
      "Name: country, dtype: object\n",
      "Paises cluster 1 df_1\n",
      "0              Afghanistan\n",
      "12                 Albania\n",
      "24                 Algeria\n",
      "36                  Angola\n",
      "96              Bangladesh\n",
      "               ...        \n",
      "1644               Vietnam\n",
      "1656    West Bank and Gaza\n",
      "1668           Yemen, Rep.\n",
      "1680                Zambia\n",
      "1692              Zimbabwe\n",
      "Name: country, Length: 95, dtype: object\n"
     ]
    }
   ],
   "source": [
    "print(\"Paises cluster 0 df_1\")\n",
    "print(df_1[df_1['cluster'] == 0]['country'].sample(5, random_state=1))\n",
    "print(\"Paises cluster 1 df_1\")\n",
    "print(df_1[df_1['cluster'] == 1]['country'])"
   ]
  },
  {
   "cell_type": "markdown",
   "id": "baab2984",
   "metadata": {},
   "source": [
    "## Inspección de países por cluster\n",
    "\n",
    "Mostramos ejemplos de países en cada cluster para interpretar los grupos (muestras aleatorias para brevedad)."
   ]
  },
  {
   "cell_type": "code",
   "execution_count": null,
   "id": "975732a6",
   "metadata": {},
   "outputs": [
    {
     "name": "stdout",
     "output_type": "stream",
     "text": [
      "Paises cluster 0 df_2\n",
      "1031     Morocco\n",
      "515     Ethiopia\n",
      "647        Haiti\n",
      "1535    Thailand\n",
      "587        Ghana\n",
      "Name: country, dtype: object\n",
      "Paises cluster 1 df_2\n",
      "1475            Sweden\n",
      "1607    United Kingdom\n",
      "1391          Slovenia\n",
      "119            Belgium\n",
      "1091       Netherlands\n",
      "Name: country, dtype: object\n"
     ]
    }
   ],
   "source": [
    "print(\"Paises cluster 0 df_2\")\n",
    "print(df_2[df_2['cluster'] == 0]['country'].sample(5, random_state=1))\n",
    "print(\"Paises cluster 1 df_2\")\n",
    "print(df_2[df_2['cluster'] == 1]['country'].sample(5, random_state=1))"
   ]
  },
  {
   "cell_type": "markdown",
   "id": "e70f5c94",
   "metadata": {},
   "source": [
    "### Países por cluster (2007)\n",
    "\n",
    "Repetimos la inspección para 2007 para comparar con 1952."
   ]
  },
  {
   "cell_type": "code",
   "execution_count": null,
   "id": "596401f9",
   "metadata": {},
   "outputs": [
    {
     "data": {
      "application/vnd.plotly.v1+json": {
       "config": {
        "plotlyServerURL": "https://plot.ly"
       },
       "data": [
        {
         "hovertemplate": "gdpPercap=%{x}<br>lifeExp=%{y}<br>country=%{text}<br>cluster=%{marker.color}<extra></extra>",
         "legendgroup": "",
         "marker": {
          "color": {
           "bdata": "AQEAAQEBAQAAAQEBAQABAQEBAQEBAAEBAAABAQEAAQEBAQAAAAABAQEAAQEBAQEBAAA=",
           "dtype": "i1"
          },
          "coloraxis": "coloraxis",
          "symbol": "circle"
         },
         "mode": "markers+text",
         "name": "",
         "orientation": "v",
         "showlegend": false,
         "text": [
          "Kenya",
          "Saudi Arabia",
          "Croatia",
          "Guinea",
          "Oman",
          "West Bank and Gaza",
          "Mongolia",
          "Slovenia",
          "Uruguay",
          "Bosnia and Herzegovina",
          "Congo, Dem. Rep.",
          "Gabon",
          "Cameroon",
          "Romania",
          "Sierra Leone",
          "Zambia",
          "Comoros",
          "Vietnam",
          "Bolivia",
          "Swaziland",
          "Jordan",
          "Norway",
          "Sudan",
          "Senegal",
          "Japan",
          "Argentina",
          "Iran",
          "Ethiopia",
          "Nigeria",
          "Slovak Republic",
          "Burkina Faso",
          "Cambodia",
          "Benin",
          "Dominican Republic",
          "Hong Kong, China",
          "Italy",
          "Singapore",
          "Montenegro",
          "Reunion",
          "Liberia",
          "Afghanistan",
          "Hungary",
          "Congo, Rep.",
          "Equatorial Guinea",
          "China",
          "Colombia",
          "Togo",
          "Malawi",
          "Jamaica",
          "France"
         ],
         "type": "scatter",
         "x": {
          "bdata": "RjZXzVOsikASUOEIjju5QLNBJhl5XqhAqSYc1STjf0ApJJnV65CcQOJNfoterpdA8L+V7IiUiEDnxYmvCnewQGe0VUnEVLZALqOi+0NsjkA+StuuVmSIQF3+Q/p5xbBAC5jAratSkkC78IPzOZGoQBtXbUhNfotAr7K2KY7tkUC3Qe239juRQKXnzCyI6IJATDj0FqfqpEBLAz+qgfGRQFKAKJihK5hACcTr+rW3w0B4RIXq9j+ZQOmY84xtqZZAQWFQpukhqUCCO1CnUBe3QNzwu+mmtqdAJyFHKVeidkC6+NueINWQQKosCruo0rNAtWDzuwr6gEC9B54xggd3QDSAt0ACm5BAAmcpWd7WlUCQv7So19ynQIK7s3ZnQ7NA2XiwxUYWokAD7+TTK6+kQKDgYkXFPaVA5LH6fpX8gUB6bwwBkFuIQIaTNH+sj7RASwaAKj6boEDWnHI7Snp3QARauoItB3lAzefc7TrAoECIAQEheN6KQHnDIiukEndAI2qizw+lpkDF5A0wz3W7QA==",
          "dtype": "f8"
         },
         "xaxis": "x",
         "y": {
          "bdata": "w/UoXI8iRUAAAAAAAPBDQHsUrkfhmk5Ay6FFtvPNQEBEi2zn+8lCQBSuR+F6lEVArBxaZDsfRUAUrkfhemRQQAaBlUOLhFBAKVyPwvXoSkD8qfHSTZJDQKrx0k1igEJAbef7qfFCQ0BmZmZmZoZOQNv5fmq8VD5Avp8aL90ERUDsUbgehVtEQNv5fmq8NERAokW28/00REBqvHSTGLREQE5iEFg5lEVAexSuR+EqUkDhehSuR1FDQN0kBoGVo0JApHA9CteDT0CuR+F6FD5PQKwcWmQ7b0ZARIts5/sJQUC28/3UeClCQNejcD0KF1BAmpmZmZn5P0BMN4lBYLVDQAaBlUOLHENAEFg5tMj2RkB7FK5H4XpOQFyPwvUofFBAppvEILAyTkCiRbbz/ZRNQOkmMQisXEpAPQrXo3A9Q0CTGARWDs08QFK4HoXrAVBAke18PzUORUAEVg4tsj1BQAAAAAAAAEZA/Knx0k1SSUA/NV66SUxDQFTjpZvEIEJApHA9CtdDTUAK16NwPdpQQA==",
          "dtype": "f8"
         },
         "yaxis": "y"
        }
       ],
       "layout": {
        "coloraxis": {
         "colorbar": {
          "title": {
           "text": "cluster"
          }
         },
         "colorscale": [
          [
           0,
           "#0d0887"
          ],
          [
           0.1111111111111111,
           "#46039f"
          ],
          [
           0.2222222222222222,
           "#7201a8"
          ],
          [
           0.3333333333333333,
           "#9c179e"
          ],
          [
           0.4444444444444444,
           "#bd3786"
          ],
          [
           0.5555555555555556,
           "#d8576b"
          ],
          [
           0.6666666666666666,
           "#ed7953"
          ],
          [
           0.7777777777777778,
           "#fb9f3a"
          ],
          [
           0.8888888888888888,
           "#fdca26"
          ],
          [
           1,
           "#f0f921"
          ]
         ]
        },
        "legend": {
         "tracegroupgap": 0
        },
        "margin": {
         "t": 60
        },
        "template": {
         "data": {
          "bar": [
           {
            "error_x": {
             "color": "#2a3f5f"
            },
            "error_y": {
             "color": "#2a3f5f"
            },
            "marker": {
             "line": {
              "color": "#E5ECF6",
              "width": 0.5
             },
             "pattern": {
              "fillmode": "overlay",
              "size": 10,
              "solidity": 0.2
             }
            },
            "type": "bar"
           }
          ],
          "barpolar": [
           {
            "marker": {
             "line": {
              "color": "#E5ECF6",
              "width": 0.5
             },
             "pattern": {
              "fillmode": "overlay",
              "size": 10,
              "solidity": 0.2
             }
            },
            "type": "barpolar"
           }
          ],
          "carpet": [
           {
            "aaxis": {
             "endlinecolor": "#2a3f5f",
             "gridcolor": "white",
             "linecolor": "white",
             "minorgridcolor": "white",
             "startlinecolor": "#2a3f5f"
            },
            "baxis": {
             "endlinecolor": "#2a3f5f",
             "gridcolor": "white",
             "linecolor": "white",
             "minorgridcolor": "white",
             "startlinecolor": "#2a3f5f"
            },
            "type": "carpet"
           }
          ],
          "choropleth": [
           {
            "colorbar": {
             "outlinewidth": 0,
             "ticks": ""
            },
            "type": "choropleth"
           }
          ],
          "contour": [
           {
            "colorbar": {
             "outlinewidth": 0,
             "ticks": ""
            },
            "colorscale": [
             [
              0,
              "#0d0887"
             ],
             [
              0.1111111111111111,
              "#46039f"
             ],
             [
              0.2222222222222222,
              "#7201a8"
             ],
             [
              0.3333333333333333,
              "#9c179e"
             ],
             [
              0.4444444444444444,
              "#bd3786"
             ],
             [
              0.5555555555555556,
              "#d8576b"
             ],
             [
              0.6666666666666666,
              "#ed7953"
             ],
             [
              0.7777777777777778,
              "#fb9f3a"
             ],
             [
              0.8888888888888888,
              "#fdca26"
             ],
             [
              1,
              "#f0f921"
             ]
            ],
            "type": "contour"
           }
          ],
          "contourcarpet": [
           {
            "colorbar": {
             "outlinewidth": 0,
             "ticks": ""
            },
            "type": "contourcarpet"
           }
          ],
          "heatmap": [
           {
            "colorbar": {
             "outlinewidth": 0,
             "ticks": ""
            },
            "colorscale": [
             [
              0,
              "#0d0887"
             ],
             [
              0.1111111111111111,
              "#46039f"
             ],
             [
              0.2222222222222222,
              "#7201a8"
             ],
             [
              0.3333333333333333,
              "#9c179e"
             ],
             [
              0.4444444444444444,
              "#bd3786"
             ],
             [
              0.5555555555555556,
              "#d8576b"
             ],
             [
              0.6666666666666666,
              "#ed7953"
             ],
             [
              0.7777777777777778,
              "#fb9f3a"
             ],
             [
              0.8888888888888888,
              "#fdca26"
             ],
             [
              1,
              "#f0f921"
             ]
            ],
            "type": "heatmap"
           }
          ],
          "histogram": [
           {
            "marker": {
             "pattern": {
              "fillmode": "overlay",
              "size": 10,
              "solidity": 0.2
             }
            },
            "type": "histogram"
           }
          ],
          "histogram2d": [
           {
            "colorbar": {
             "outlinewidth": 0,
             "ticks": ""
            },
            "colorscale": [
             [
              0,
              "#0d0887"
             ],
             [
              0.1111111111111111,
              "#46039f"
             ],
             [
              0.2222222222222222,
              "#7201a8"
             ],
             [
              0.3333333333333333,
              "#9c179e"
             ],
             [
              0.4444444444444444,
              "#bd3786"
             ],
             [
              0.5555555555555556,
              "#d8576b"
             ],
             [
              0.6666666666666666,
              "#ed7953"
             ],
             [
              0.7777777777777778,
              "#fb9f3a"
             ],
             [
              0.8888888888888888,
              "#fdca26"
             ],
             [
              1,
              "#f0f921"
             ]
            ],
            "type": "histogram2d"
           }
          ],
          "histogram2dcontour": [
           {
            "colorbar": {
             "outlinewidth": 0,
             "ticks": ""
            },
            "colorscale": [
             [
              0,
              "#0d0887"
             ],
             [
              0.1111111111111111,
              "#46039f"
             ],
             [
              0.2222222222222222,
              "#7201a8"
             ],
             [
              0.3333333333333333,
              "#9c179e"
             ],
             [
              0.4444444444444444,
              "#bd3786"
             ],
             [
              0.5555555555555556,
              "#d8576b"
             ],
             [
              0.6666666666666666,
              "#ed7953"
             ],
             [
              0.7777777777777778,
              "#fb9f3a"
             ],
             [
              0.8888888888888888,
              "#fdca26"
             ],
             [
              1,
              "#f0f921"
             ]
            ],
            "type": "histogram2dcontour"
           }
          ],
          "mesh3d": [
           {
            "colorbar": {
             "outlinewidth": 0,
             "ticks": ""
            },
            "type": "mesh3d"
           }
          ],
          "parcoords": [
           {
            "line": {
             "colorbar": {
              "outlinewidth": 0,
              "ticks": ""
             }
            },
            "type": "parcoords"
           }
          ],
          "pie": [
           {
            "automargin": true,
            "type": "pie"
           }
          ],
          "scatter": [
           {
            "fillpattern": {
             "fillmode": "overlay",
             "size": 10,
             "solidity": 0.2
            },
            "type": "scatter"
           }
          ],
          "scatter3d": [
           {
            "line": {
             "colorbar": {
              "outlinewidth": 0,
              "ticks": ""
             }
            },
            "marker": {
             "colorbar": {
              "outlinewidth": 0,
              "ticks": ""
             }
            },
            "type": "scatter3d"
           }
          ],
          "scattercarpet": [
           {
            "marker": {
             "colorbar": {
              "outlinewidth": 0,
              "ticks": ""
             }
            },
            "type": "scattercarpet"
           }
          ],
          "scattergeo": [
           {
            "marker": {
             "colorbar": {
              "outlinewidth": 0,
              "ticks": ""
             }
            },
            "type": "scattergeo"
           }
          ],
          "scattergl": [
           {
            "marker": {
             "colorbar": {
              "outlinewidth": 0,
              "ticks": ""
             }
            },
            "type": "scattergl"
           }
          ],
          "scattermap": [
           {
            "marker": {
             "colorbar": {
              "outlinewidth": 0,
              "ticks": ""
             }
            },
            "type": "scattermap"
           }
          ],
          "scattermapbox": [
           {
            "marker": {
             "colorbar": {
              "outlinewidth": 0,
              "ticks": ""
             }
            },
            "type": "scattermapbox"
           }
          ],
          "scatterpolar": [
           {
            "marker": {
             "colorbar": {
              "outlinewidth": 0,
              "ticks": ""
             }
            },
            "type": "scatterpolar"
           }
          ],
          "scatterpolargl": [
           {
            "marker": {
             "colorbar": {
              "outlinewidth": 0,
              "ticks": ""
             }
            },
            "type": "scatterpolargl"
           }
          ],
          "scatterternary": [
           {
            "marker": {
             "colorbar": {
              "outlinewidth": 0,
              "ticks": ""
             }
            },
            "type": "scatterternary"
           }
          ],
          "surface": [
           {
            "colorbar": {
             "outlinewidth": 0,
             "ticks": ""
            },
            "colorscale": [
             [
              0,
              "#0d0887"
             ],
             [
              0.1111111111111111,
              "#46039f"
             ],
             [
              0.2222222222222222,
              "#7201a8"
             ],
             [
              0.3333333333333333,
              "#9c179e"
             ],
             [
              0.4444444444444444,
              "#bd3786"
             ],
             [
              0.5555555555555556,
              "#d8576b"
             ],
             [
              0.6666666666666666,
              "#ed7953"
             ],
             [
              0.7777777777777778,
              "#fb9f3a"
             ],
             [
              0.8888888888888888,
              "#fdca26"
             ],
             [
              1,
              "#f0f921"
             ]
            ],
            "type": "surface"
           }
          ],
          "table": [
           {
            "cells": {
             "fill": {
              "color": "#EBF0F8"
             },
             "line": {
              "color": "white"
             }
            },
            "header": {
             "fill": {
              "color": "#C8D4E3"
             },
             "line": {
              "color": "white"
             }
            },
            "type": "table"
           }
          ]
         },
         "layout": {
          "annotationdefaults": {
           "arrowcolor": "#2a3f5f",
           "arrowhead": 0,
           "arrowwidth": 1
          },
          "autotypenumbers": "strict",
          "coloraxis": {
           "colorbar": {
            "outlinewidth": 0,
            "ticks": ""
           }
          },
          "colorscale": {
           "diverging": [
            [
             0,
             "#8e0152"
            ],
            [
             0.1,
             "#c51b7d"
            ],
            [
             0.2,
             "#de77ae"
            ],
            [
             0.3,
             "#f1b6da"
            ],
            [
             0.4,
             "#fde0ef"
            ],
            [
             0.5,
             "#f7f7f7"
            ],
            [
             0.6,
             "#e6f5d0"
            ],
            [
             0.7,
             "#b8e186"
            ],
            [
             0.8,
             "#7fbc41"
            ],
            [
             0.9,
             "#4d9221"
            ],
            [
             1,
             "#276419"
            ]
           ],
           "sequential": [
            [
             0,
             "#0d0887"
            ],
            [
             0.1111111111111111,
             "#46039f"
            ],
            [
             0.2222222222222222,
             "#7201a8"
            ],
            [
             0.3333333333333333,
             "#9c179e"
            ],
            [
             0.4444444444444444,
             "#bd3786"
            ],
            [
             0.5555555555555556,
             "#d8576b"
            ],
            [
             0.6666666666666666,
             "#ed7953"
            ],
            [
             0.7777777777777778,
             "#fb9f3a"
            ],
            [
             0.8888888888888888,
             "#fdca26"
            ],
            [
             1,
             "#f0f921"
            ]
           ],
           "sequentialminus": [
            [
             0,
             "#0d0887"
            ],
            [
             0.1111111111111111,
             "#46039f"
            ],
            [
             0.2222222222222222,
             "#7201a8"
            ],
            [
             0.3333333333333333,
             "#9c179e"
            ],
            [
             0.4444444444444444,
             "#bd3786"
            ],
            [
             0.5555555555555556,
             "#d8576b"
            ],
            [
             0.6666666666666666,
             "#ed7953"
            ],
            [
             0.7777777777777778,
             "#fb9f3a"
            ],
            [
             0.8888888888888888,
             "#fdca26"
            ],
            [
             1,
             "#f0f921"
            ]
           ]
          },
          "colorway": [
           "#636efa",
           "#EF553B",
           "#00cc96",
           "#ab63fa",
           "#FFA15A",
           "#19d3f3",
           "#FF6692",
           "#B6E880",
           "#FF97FF",
           "#FECB52"
          ],
          "font": {
           "color": "#2a3f5f"
          },
          "geo": {
           "bgcolor": "white",
           "lakecolor": "white",
           "landcolor": "#E5ECF6",
           "showlakes": true,
           "showland": true,
           "subunitcolor": "white"
          },
          "hoverlabel": {
           "align": "left"
          },
          "hovermode": "closest",
          "mapbox": {
           "style": "light"
          },
          "paper_bgcolor": "white",
          "plot_bgcolor": "#E5ECF6",
          "polar": {
           "angularaxis": {
            "gridcolor": "white",
            "linecolor": "white",
            "ticks": ""
           },
           "bgcolor": "#E5ECF6",
           "radialaxis": {
            "gridcolor": "white",
            "linecolor": "white",
            "ticks": ""
           }
          },
          "scene": {
           "xaxis": {
            "backgroundcolor": "#E5ECF6",
            "gridcolor": "white",
            "gridwidth": 2,
            "linecolor": "white",
            "showbackground": true,
            "ticks": "",
            "zerolinecolor": "white"
           },
           "yaxis": {
            "backgroundcolor": "#E5ECF6",
            "gridcolor": "white",
            "gridwidth": 2,
            "linecolor": "white",
            "showbackground": true,
            "ticks": "",
            "zerolinecolor": "white"
           },
           "zaxis": {
            "backgroundcolor": "#E5ECF6",
            "gridcolor": "white",
            "gridwidth": 2,
            "linecolor": "white",
            "showbackground": true,
            "ticks": "",
            "zerolinecolor": "white"
           }
          },
          "shapedefaults": {
           "line": {
            "color": "#2a3f5f"
           }
          },
          "ternary": {
           "aaxis": {
            "gridcolor": "white",
            "linecolor": "white",
            "ticks": ""
           },
           "baxis": {
            "gridcolor": "white",
            "linecolor": "white",
            "ticks": ""
           },
           "bgcolor": "#E5ECF6",
           "caxis": {
            "gridcolor": "white",
            "linecolor": "white",
            "ticks": ""
           }
          },
          "title": {
           "x": 0.05
          },
          "xaxis": {
           "automargin": true,
           "gridcolor": "white",
           "linecolor": "white",
           "ticks": "",
           "title": {
            "standoff": 15
           },
           "zerolinecolor": "white",
           "zerolinewidth": 2
          },
          "yaxis": {
           "automargin": true,
           "gridcolor": "white",
           "linecolor": "white",
           "ticks": "",
           "title": {
            "standoff": 15
           },
           "zerolinecolor": "white",
           "zerolinewidth": 2
          }
         }
        },
        "xaxis": {
         "anchor": "y",
         "domain": [
          0,
          1
         ],
         "title": {
          "text": "gdpPercap"
         }
        },
        "yaxis": {
         "anchor": "x",
         "domain": [
          0,
          1
         ],
         "title": {
          "text": "lifeExp"
         }
        }
       }
      }
     },
     "metadata": {},
     "output_type": "display_data"
    }
   ],
   "source": [
    "fig = px.scatter(df_1s, x='gdpPercap', y='lifeExp', color='cluster', text=df_1s.country)\n",
    "fig.show()"
   ]
  },
  {
   "cell_type": "markdown",
   "id": "05fae981",
   "metadata": {},
   "source": [
    "## Visualización: 1952\n",
    "\n",
    "Diagrama de dispersión de `gdpPercap` vs `lifeExp` coloreado por cluster, con etiquetas de país."
   ]
  },
  {
   "cell_type": "code",
   "execution_count": 35,
   "id": "00d6ca09",
   "metadata": {},
   "outputs": [
    {
     "data": {
      "application/vnd.plotly.v1+json": {
       "config": {
        "plotlyServerURL": "https://plot.ly"
       },
       "data": [
        {
         "hovertemplate": "gdpPercap=%{x}<br>lifeExp=%{y}<br>country=%{text}<br>cluster=%{marker.color}<extra></extra>",
         "legendgroup": "",
         "marker": {
          "color": {
           "bdata": "AAAAAAAAAAAAAAAAAAAAAAABAAABAQABAAEAAAAAAAAAAQEAAAEAAAEBAQAAAAAAAAA=",
           "dtype": "i1"
          },
          "coloraxis": "coloraxis",
          "symbol": "circle"
         },
         "mode": "markers+text",
         "name": "",
         "orientation": "v",
         "showlegend": false,
         "text": [
          "Afghanistan",
          "Argentina",
          "Benin",
          "Bolivia",
          "Bosnia and Herzegovina",
          "Burkina Faso",
          "Cambodia",
          "Cameroon",
          "China",
          "Colombia",
          "Comoros",
          "Congo, Dem. Rep.",
          "Congo, Rep.",
          "Croatia",
          "Dominican Republic",
          "Equatorial Guinea",
          "Ethiopia",
          "France",
          "Gabon",
          "Guinea",
          "Hong Kong, China",
          "Hungary",
          "Iran",
          "Italy",
          "Jamaica",
          "Japan",
          "Jordan",
          "Kenya",
          "Liberia",
          "Malawi",
          "Mongolia",
          "Montenegro",
          "Nigeria",
          "Norway",
          "Oman",
          "Reunion",
          "Romania",
          "Saudi Arabia",
          "Senegal",
          "Sierra Leone",
          "Singapore",
          "Slovak Republic",
          "Slovenia",
          "Sudan",
          "Swaziland",
          "Togo",
          "Uruguay",
          "Vietnam",
          "West Bank and Gaza",
          "Zambia"
         ],
         "type": "scatter",
         "x": {
          "bdata": "54R1iKR0jkAgJAuYsPXIQA5qv7UjhZZAnMHfL0bcrUDyeFp+TBa9QNvbLckhBJNAat/cXx3HmkAWNZiGYeifQNFdEmcdX7NA+u5WlpReu0ASPkrbLtGOQDbIyWnUWHFAjA+zlx1hrEAUxhaCnI3MQB5Av+9fibdAaJHtfAu9x0CRB8fRcZaFQHbgnBGBwd1AIVnABD7LyUBxeQfTO3WNQHK/Q1GfZeNAQni0cTyW0UCph2h026rGQLyWkA9u5ttA67XZWOGYvECLVBhbBOreQN16TQ92p7FA7dXHQ//clkB15h4SHuh5QFKgqp3MuodATsEaZ4svqEBL58Oz8hLCQN5UpMLod59AVmXfFaYZ6ECYaftXDMvVQN0J9l8f9r1A09nJ4DwcxUAPRYE+tSXVQA+dnnfjwZpA6CTvd1P0ikCiYpy/5QTnQGB2Tx6UPdJAcsRafBAq2UAr3sg8ylSkQA1uawt7obFAqR/lccKXi0AwnkFDu7nEQJHSbB4nE6NAajS5GLOip0BA3NWr2NyTQA==",
          "dtype": "f8"
         },
         "xaxis": "x",
         "y": {
          "bdata": "RIts5/vpRUAUrkfhetRSQHe+nxovXUxA+n5qvHRjUEBKDAIrh7ZSQPYoXI/CJUpABoGVQ4vcTUDXo3A9CjdJQC/dJAaBPVJAN4lBYOU4UkB9PzVeuklQQEJg5dAiO0dA8KfGSzepS0AdWmQ73+9SQNejcD0KD1JAJjEIrBzKSUDwp8ZLN3lKQDVeukkMKlRArkfhehReTEA3iUFg5QBMQFpkO99PjVRAFIPAyqFVUkAEVg4tsr1RQG3n+6nxIlRAPzVeukkkUkA730+Nl6ZUQArXo3A9IlJArkfhehQOS0AQWDm0yNZGQBBYObTIJkhACKwcWmSzUECYbhKDwKJSQMuhRbbzbUdABoGVQ4sMVEApXI/C9ehSQD81XrpJHFNAWDm0yHYeUkB9PzVeujFSQA4tsp3vh09AZBBYObRIRUCR7Xw/Nf5TQN9PjZduqlJAJQaBlUN7U0C6SQwCK0dNQFg5tMh2zkNA9ihcj8I1TUB/arx0kxhTQA4tsp3vj1JAXrpJDAJbUkD91HjpJjFFQA==",
          "dtype": "f8"
         },
         "yaxis": "y"
        }
       ],
       "layout": {
        "coloraxis": {
         "colorbar": {
          "title": {
           "text": "cluster"
          }
         },
         "colorscale": [
          [
           0,
           "#0d0887"
          ],
          [
           0.1111111111111111,
           "#46039f"
          ],
          [
           0.2222222222222222,
           "#7201a8"
          ],
          [
           0.3333333333333333,
           "#9c179e"
          ],
          [
           0.4444444444444444,
           "#bd3786"
          ],
          [
           0.5555555555555556,
           "#d8576b"
          ],
          [
           0.6666666666666666,
           "#ed7953"
          ],
          [
           0.7777777777777778,
           "#fb9f3a"
          ],
          [
           0.8888888888888888,
           "#fdca26"
          ],
          [
           1,
           "#f0f921"
          ]
         ]
        },
        "legend": {
         "tracegroupgap": 0
        },
        "margin": {
         "t": 60
        },
        "template": {
         "data": {
          "bar": [
           {
            "error_x": {
             "color": "#2a3f5f"
            },
            "error_y": {
             "color": "#2a3f5f"
            },
            "marker": {
             "line": {
              "color": "#E5ECF6",
              "width": 0.5
             },
             "pattern": {
              "fillmode": "overlay",
              "size": 10,
              "solidity": 0.2
             }
            },
            "type": "bar"
           }
          ],
          "barpolar": [
           {
            "marker": {
             "line": {
              "color": "#E5ECF6",
              "width": 0.5
             },
             "pattern": {
              "fillmode": "overlay",
              "size": 10,
              "solidity": 0.2
             }
            },
            "type": "barpolar"
           }
          ],
          "carpet": [
           {
            "aaxis": {
             "endlinecolor": "#2a3f5f",
             "gridcolor": "white",
             "linecolor": "white",
             "minorgridcolor": "white",
             "startlinecolor": "#2a3f5f"
            },
            "baxis": {
             "endlinecolor": "#2a3f5f",
             "gridcolor": "white",
             "linecolor": "white",
             "minorgridcolor": "white",
             "startlinecolor": "#2a3f5f"
            },
            "type": "carpet"
           }
          ],
          "choropleth": [
           {
            "colorbar": {
             "outlinewidth": 0,
             "ticks": ""
            },
            "type": "choropleth"
           }
          ],
          "contour": [
           {
            "colorbar": {
             "outlinewidth": 0,
             "ticks": ""
            },
            "colorscale": [
             [
              0,
              "#0d0887"
             ],
             [
              0.1111111111111111,
              "#46039f"
             ],
             [
              0.2222222222222222,
              "#7201a8"
             ],
             [
              0.3333333333333333,
              "#9c179e"
             ],
             [
              0.4444444444444444,
              "#bd3786"
             ],
             [
              0.5555555555555556,
              "#d8576b"
             ],
             [
              0.6666666666666666,
              "#ed7953"
             ],
             [
              0.7777777777777778,
              "#fb9f3a"
             ],
             [
              0.8888888888888888,
              "#fdca26"
             ],
             [
              1,
              "#f0f921"
             ]
            ],
            "type": "contour"
           }
          ],
          "contourcarpet": [
           {
            "colorbar": {
             "outlinewidth": 0,
             "ticks": ""
            },
            "type": "contourcarpet"
           }
          ],
          "heatmap": [
           {
            "colorbar": {
             "outlinewidth": 0,
             "ticks": ""
            },
            "colorscale": [
             [
              0,
              "#0d0887"
             ],
             [
              0.1111111111111111,
              "#46039f"
             ],
             [
              0.2222222222222222,
              "#7201a8"
             ],
             [
              0.3333333333333333,
              "#9c179e"
             ],
             [
              0.4444444444444444,
              "#bd3786"
             ],
             [
              0.5555555555555556,
              "#d8576b"
             ],
             [
              0.6666666666666666,
              "#ed7953"
             ],
             [
              0.7777777777777778,
              "#fb9f3a"
             ],
             [
              0.8888888888888888,
              "#fdca26"
             ],
             [
              1,
              "#f0f921"
             ]
            ],
            "type": "heatmap"
           }
          ],
          "histogram": [
           {
            "marker": {
             "pattern": {
              "fillmode": "overlay",
              "size": 10,
              "solidity": 0.2
             }
            },
            "type": "histogram"
           }
          ],
          "histogram2d": [
           {
            "colorbar": {
             "outlinewidth": 0,
             "ticks": ""
            },
            "colorscale": [
             [
              0,
              "#0d0887"
             ],
             [
              0.1111111111111111,
              "#46039f"
             ],
             [
              0.2222222222222222,
              "#7201a8"
             ],
             [
              0.3333333333333333,
              "#9c179e"
             ],
             [
              0.4444444444444444,
              "#bd3786"
             ],
             [
              0.5555555555555556,
              "#d8576b"
             ],
             [
              0.6666666666666666,
              "#ed7953"
             ],
             [
              0.7777777777777778,
              "#fb9f3a"
             ],
             [
              0.8888888888888888,
              "#fdca26"
             ],
             [
              1,
              "#f0f921"
             ]
            ],
            "type": "histogram2d"
           }
          ],
          "histogram2dcontour": [
           {
            "colorbar": {
             "outlinewidth": 0,
             "ticks": ""
            },
            "colorscale": [
             [
              0,
              "#0d0887"
             ],
             [
              0.1111111111111111,
              "#46039f"
             ],
             [
              0.2222222222222222,
              "#7201a8"
             ],
             [
              0.3333333333333333,
              "#9c179e"
             ],
             [
              0.4444444444444444,
              "#bd3786"
             ],
             [
              0.5555555555555556,
              "#d8576b"
             ],
             [
              0.6666666666666666,
              "#ed7953"
             ],
             [
              0.7777777777777778,
              "#fb9f3a"
             ],
             [
              0.8888888888888888,
              "#fdca26"
             ],
             [
              1,
              "#f0f921"
             ]
            ],
            "type": "histogram2dcontour"
           }
          ],
          "mesh3d": [
           {
            "colorbar": {
             "outlinewidth": 0,
             "ticks": ""
            },
            "type": "mesh3d"
           }
          ],
          "parcoords": [
           {
            "line": {
             "colorbar": {
              "outlinewidth": 0,
              "ticks": ""
             }
            },
            "type": "parcoords"
           }
          ],
          "pie": [
           {
            "automargin": true,
            "type": "pie"
           }
          ],
          "scatter": [
           {
            "fillpattern": {
             "fillmode": "overlay",
             "size": 10,
             "solidity": 0.2
            },
            "type": "scatter"
           }
          ],
          "scatter3d": [
           {
            "line": {
             "colorbar": {
              "outlinewidth": 0,
              "ticks": ""
             }
            },
            "marker": {
             "colorbar": {
              "outlinewidth": 0,
              "ticks": ""
             }
            },
            "type": "scatter3d"
           }
          ],
          "scattercarpet": [
           {
            "marker": {
             "colorbar": {
              "outlinewidth": 0,
              "ticks": ""
             }
            },
            "type": "scattercarpet"
           }
          ],
          "scattergeo": [
           {
            "marker": {
             "colorbar": {
              "outlinewidth": 0,
              "ticks": ""
             }
            },
            "type": "scattergeo"
           }
          ],
          "scattergl": [
           {
            "marker": {
             "colorbar": {
              "outlinewidth": 0,
              "ticks": ""
             }
            },
            "type": "scattergl"
           }
          ],
          "scattermap": [
           {
            "marker": {
             "colorbar": {
              "outlinewidth": 0,
              "ticks": ""
             }
            },
            "type": "scattermap"
           }
          ],
          "scattermapbox": [
           {
            "marker": {
             "colorbar": {
              "outlinewidth": 0,
              "ticks": ""
             }
            },
            "type": "scattermapbox"
           }
          ],
          "scatterpolar": [
           {
            "marker": {
             "colorbar": {
              "outlinewidth": 0,
              "ticks": ""
             }
            },
            "type": "scatterpolar"
           }
          ],
          "scatterpolargl": [
           {
            "marker": {
             "colorbar": {
              "outlinewidth": 0,
              "ticks": ""
             }
            },
            "type": "scatterpolargl"
           }
          ],
          "scatterternary": [
           {
            "marker": {
             "colorbar": {
              "outlinewidth": 0,
              "ticks": ""
             }
            },
            "type": "scatterternary"
           }
          ],
          "surface": [
           {
            "colorbar": {
             "outlinewidth": 0,
             "ticks": ""
            },
            "colorscale": [
             [
              0,
              "#0d0887"
             ],
             [
              0.1111111111111111,
              "#46039f"
             ],
             [
              0.2222222222222222,
              "#7201a8"
             ],
             [
              0.3333333333333333,
              "#9c179e"
             ],
             [
              0.4444444444444444,
              "#bd3786"
             ],
             [
              0.5555555555555556,
              "#d8576b"
             ],
             [
              0.6666666666666666,
              "#ed7953"
             ],
             [
              0.7777777777777778,
              "#fb9f3a"
             ],
             [
              0.8888888888888888,
              "#fdca26"
             ],
             [
              1,
              "#f0f921"
             ]
            ],
            "type": "surface"
           }
          ],
          "table": [
           {
            "cells": {
             "fill": {
              "color": "#EBF0F8"
             },
             "line": {
              "color": "white"
             }
            },
            "header": {
             "fill": {
              "color": "#C8D4E3"
             },
             "line": {
              "color": "white"
             }
            },
            "type": "table"
           }
          ]
         },
         "layout": {
          "annotationdefaults": {
           "arrowcolor": "#2a3f5f",
           "arrowhead": 0,
           "arrowwidth": 1
          },
          "autotypenumbers": "strict",
          "coloraxis": {
           "colorbar": {
            "outlinewidth": 0,
            "ticks": ""
           }
          },
          "colorscale": {
           "diverging": [
            [
             0,
             "#8e0152"
            ],
            [
             0.1,
             "#c51b7d"
            ],
            [
             0.2,
             "#de77ae"
            ],
            [
             0.3,
             "#f1b6da"
            ],
            [
             0.4,
             "#fde0ef"
            ],
            [
             0.5,
             "#f7f7f7"
            ],
            [
             0.6,
             "#e6f5d0"
            ],
            [
             0.7,
             "#b8e186"
            ],
            [
             0.8,
             "#7fbc41"
            ],
            [
             0.9,
             "#4d9221"
            ],
            [
             1,
             "#276419"
            ]
           ],
           "sequential": [
            [
             0,
             "#0d0887"
            ],
            [
             0.1111111111111111,
             "#46039f"
            ],
            [
             0.2222222222222222,
             "#7201a8"
            ],
            [
             0.3333333333333333,
             "#9c179e"
            ],
            [
             0.4444444444444444,
             "#bd3786"
            ],
            [
             0.5555555555555556,
             "#d8576b"
            ],
            [
             0.6666666666666666,
             "#ed7953"
            ],
            [
             0.7777777777777778,
             "#fb9f3a"
            ],
            [
             0.8888888888888888,
             "#fdca26"
            ],
            [
             1,
             "#f0f921"
            ]
           ],
           "sequentialminus": [
            [
             0,
             "#0d0887"
            ],
            [
             0.1111111111111111,
             "#46039f"
            ],
            [
             0.2222222222222222,
             "#7201a8"
            ],
            [
             0.3333333333333333,
             "#9c179e"
            ],
            [
             0.4444444444444444,
             "#bd3786"
            ],
            [
             0.5555555555555556,
             "#d8576b"
            ],
            [
             0.6666666666666666,
             "#ed7953"
            ],
            [
             0.7777777777777778,
             "#fb9f3a"
            ],
            [
             0.8888888888888888,
             "#fdca26"
            ],
            [
             1,
             "#f0f921"
            ]
           ]
          },
          "colorway": [
           "#636efa",
           "#EF553B",
           "#00cc96",
           "#ab63fa",
           "#FFA15A",
           "#19d3f3",
           "#FF6692",
           "#B6E880",
           "#FF97FF",
           "#FECB52"
          ],
          "font": {
           "color": "#2a3f5f"
          },
          "geo": {
           "bgcolor": "white",
           "lakecolor": "white",
           "landcolor": "#E5ECF6",
           "showlakes": true,
           "showland": true,
           "subunitcolor": "white"
          },
          "hoverlabel": {
           "align": "left"
          },
          "hovermode": "closest",
          "mapbox": {
           "style": "light"
          },
          "paper_bgcolor": "white",
          "plot_bgcolor": "#E5ECF6",
          "polar": {
           "angularaxis": {
            "gridcolor": "white",
            "linecolor": "white",
            "ticks": ""
           },
           "bgcolor": "#E5ECF6",
           "radialaxis": {
            "gridcolor": "white",
            "linecolor": "white",
            "ticks": ""
           }
          },
          "scene": {
           "xaxis": {
            "backgroundcolor": "#E5ECF6",
            "gridcolor": "white",
            "gridwidth": 2,
            "linecolor": "white",
            "showbackground": true,
            "ticks": "",
            "zerolinecolor": "white"
           },
           "yaxis": {
            "backgroundcolor": "#E5ECF6",
            "gridcolor": "white",
            "gridwidth": 2,
            "linecolor": "white",
            "showbackground": true,
            "ticks": "",
            "zerolinecolor": "white"
           },
           "zaxis": {
            "backgroundcolor": "#E5ECF6",
            "gridcolor": "white",
            "gridwidth": 2,
            "linecolor": "white",
            "showbackground": true,
            "ticks": "",
            "zerolinecolor": "white"
           }
          },
          "shapedefaults": {
           "line": {
            "color": "#2a3f5f"
           }
          },
          "ternary": {
           "aaxis": {
            "gridcolor": "white",
            "linecolor": "white",
            "ticks": ""
           },
           "baxis": {
            "gridcolor": "white",
            "linecolor": "white",
            "ticks": ""
           },
           "bgcolor": "#E5ECF6",
           "caxis": {
            "gridcolor": "white",
            "linecolor": "white",
            "ticks": ""
           }
          },
          "title": {
           "x": 0.05
          },
          "xaxis": {
           "automargin": true,
           "gridcolor": "white",
           "linecolor": "white",
           "ticks": "",
           "title": {
            "standoff": 15
           },
           "zerolinecolor": "white",
           "zerolinewidth": 2
          },
          "yaxis": {
           "automargin": true,
           "gridcolor": "white",
           "linecolor": "white",
           "ticks": "",
           "title": {
            "standoff": 15
           },
           "zerolinecolor": "white",
           "zerolinewidth": 2
          }
         }
        },
        "xaxis": {
         "anchor": "y",
         "domain": [
          0,
          1
         ],
         "title": {
          "text": "gdpPercap"
         }
        },
        "yaxis": {
         "anchor": "x",
         "domain": [
          0,
          1
         ],
         "title": {
          "text": "lifeExp"
         }
        }
       }
      }
     },
     "metadata": {},
     "output_type": "display_data"
    }
   ],
   "source": [
    "fig = px.scatter(df_2s, x='gdpPercap', y='lifeExp', color='cluster', text=df_2s.country)\n",
    "fig.show()"
   ]
  },
  {
   "cell_type": "markdown",
   "id": "3ce943fc",
   "metadata": {},
   "source": [
    "## Visualización: 2007\n",
    "\n",
    "Misma visualización para 2007 para comparar el desplazamiento de países entre clusters."
   ]
  },
  {
   "cell_type": "markdown",
   "id": "3f5e3e32",
   "metadata": {},
   "source": [
    "A partir de aquí podríamos añadir visualicación como añadir el continente a la visualización,\n",
    "dibujar en un mapa mundi cada cluster, o hacer una animación de cómo evoluciona el cluster con el paso\n",
    "de los años (con un fotograma por cada uno)\n",
    "\n",
    "Si tuviera más datos que valoraran el grado de desarrollo humano, como % de alfabetización, km de carreteras,\n",
    "percepción de la corrupción.. etc, podría hacer un PCA, y visualizar en más dimensiones"
   ]
  }
 ],
 "metadata": {
  "kernelspec": {
   "display_name": ".venv",
   "language": "python",
   "name": "python3"
  },
  "language_info": {
   "codemirror_mode": {
    "name": "ipython",
    "version": 3
   },
   "file_extension": ".py",
   "mimetype": "text/x-python",
   "name": "python",
   "nbconvert_exporter": "python",
   "pygments_lexer": "ipython3",
   "version": "3.13.7"
  }
 },
 "nbformat": 4,
 "nbformat_minor": 5
}
